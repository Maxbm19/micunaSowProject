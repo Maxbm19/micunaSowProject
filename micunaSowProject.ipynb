{
 "cells": [
  {
   "cell_type": "markdown",
   "id": "2738c0ac-4c27-4dfb-9426-8e74136279b4",
   "metadata": {},
   "source": [
    "# Micuna\n",
    "## From the Data to the Fields: Optimal Weather Conditions to Sow Crops"
   ]
  },
  {
   "cell_type": "markdown",
   "id": "c4121c0e-ce32-427b-8a5f-d7ec37d25a6d",
   "metadata": {},
   "source": [
    "In this notebook, we develop a boosted ensemble of decision trees, XGBoost model, for the classification of optimal days for sowing. \n",
    "In this particular model, we work with data from the Soybean case.\n",
    "We select three specific locations in the region of Santa Cruz, Bolivia, known for Soybean crops: Tres Cruces, Guarayos, and San Juan."
   ]
  },
  {
   "cell_type": "markdown",
   "id": "fcb38099-857f-418d-8897-ea9b8e969f45",
   "metadata": {},
   "source": [
    "#### Libraries"
   ]
  },
  {
   "cell_type": "code",
   "execution_count": 1,
   "id": "d4155055-decd-4792-9d4a-8fb4a2766363",
   "metadata": {},
   "outputs": [],
   "source": [
    "import pandas as pd\n",
    "import seaborn as sns"
   ]
  },
  {
   "cell_type": "markdown",
   "id": "7d4e3c1f-ef5a-40c3-a308-e7dac54b1e6f",
   "metadata": {},
   "source": [
    "# Data extraction"
   ]
  },
  {
   "cell_type": "markdown",
   "id": "e483d856-0abf-4b74-a144-9cb48f9c0773",
   "metadata": {},
   "source": [
    "Initial date: 01-01- 2020\n",
    "End date: 10-03-2024"
   ]
  },
  {
   "cell_type": "markdown",
   "id": "3e506959-92da-4ad8-ae49-a4216df7c27c",
   "metadata": {},
   "source": [
    "### The Power Project - Nasa"
   ]
  },
  {
   "cell_type": "markdown",
   "id": "301e0e1f-e071-486c-ad80-3f6264c138fd",
   "metadata": {},
   "source": [
    "Source for the api: https://power.larc.nasa.gov/"
   ]
  },
  {
   "cell_type": "code",
   "execution_count": 2,
   "id": "5a2fa4af-03ba-4bf4-bd5f-5c5d77fb64bb",
   "metadata": {},
   "outputs": [],
   "source": [
    "def power_nasa(lat,long):\n",
    "    url = \"https://power.larc.nasa.gov/api/temporal/daily/point\"\n",
    "\n",
    "    params = {\n",
    "        \"start\": \"20200101\", \n",
    "        \"end\": \"20241003\",     \n",
    "        \"latitude\": lat,  \n",
    "        \"longitude\": long, \n",
    "        \"community\": \"AG\",  \n",
    "        \"parameters\": \"QV2M,WD2M,PS,RH2M,PRECTOT,WS2M,WS50M,ALLSKY_SFC_SW_DWN,CLRSKY_SFC_SW_DWN\"\n",
    "                      ,  \n",
    "        \"format\": \"JSON\"  \n",
    "    }\n",
    "\n",
    "    response = requests.get(url, params=params)\n",
    "\n",
    "    if response.status_code == 200:\n",
    "        data = response.json()\n",
    "\n",
    "        parameters = data['properties']['parameter']\n",
    "\n",
    "        df_1_nasa = pd.DataFrame(parameters)\n",
    "\n",
    "        df_1_nasa = df_1_nasa.reset_index() \n",
    "\n",
    "        df_1_nasa.rename(columns={'index': 'date'}, inplace=True)\n",
    "    else:\n",
    "        print(f\"Error: {response.status_code}\")\n",
    "\n",
    "    \n",
    "    \n",
    "    \n",
    "    return df_1_nasa "
   ]
  },
  {
   "cell_type": "markdown",
   "id": "43c7a8ef-c62d-49ce-907d-af5f494ef3b7",
   "metadata": {},
   "source": [
    "## Open Meteo"
   ]
  },
  {
   "cell_type": "markdown",
   "id": "504682f7-7be3-488c-b56c-7a091a3108e8",
   "metadata": {},
   "source": [
    "API Documentation: https://open-meteo.com/en/docs/historical-weather-api "
   ]
  },
  {
   "cell_type": "code",
   "execution_count": 3,
   "id": "326f9e30-3be3-4c03-a682-37a12bd247e3",
   "metadata": {},
   "outputs": [],
   "source": [
    "import openmeteo_requests\n",
    "import requests_cache\n",
    "from retry_requests import retry"
   ]
  },
  {
   "cell_type": "markdown",
   "id": "23752934-3909-4c4f-ba4d-5bba3359aa3f",
   "metadata": {},
   "source": [
    "###### Example of how to build the database from Meteo"
   ]
  },
  {
   "cell_type": "code",
   "execution_count": 4,
   "id": "8998f252-89f1-47f8-9250-88912cc4ab9b",
   "metadata": {},
   "outputs": [
    {
     "name": "stdout",
     "output_type": "stream",
     "text": [
      "Coordinates -17.60984230041504°N -62.234039306640625°E\n",
      "Elevation 281.0 m asl\n",
      "Timezone b'America/New_York' b'EDT'\n",
      "Timezone difference to GMT+0 -14400 s\n"
     ]
    },
    {
     "data": {
      "text/html": [
       "<div>\n",
       "<style scoped>\n",
       "    .dataframe tbody tr th:only-of-type {\n",
       "        vertical-align: middle;\n",
       "    }\n",
       "\n",
       "    .dataframe tbody tr th {\n",
       "        vertical-align: top;\n",
       "    }\n",
       "\n",
       "    .dataframe thead th {\n",
       "        text-align: right;\n",
       "    }\n",
       "</style>\n",
       "<table border=\"1\" class=\"dataframe\">\n",
       "  <thead>\n",
       "    <tr style=\"text-align: right;\">\n",
       "      <th></th>\n",
       "      <th>date</th>\n",
       "      <th>temperature_2m_max</th>\n",
       "      <th>temperature_2m_min</th>\n",
       "      <th>temperature_2m_mean</th>\n",
       "      <th>precipitation_sum</th>\n",
       "      <th>rain_sum</th>\n",
       "      <th>precipitation_hours</th>\n",
       "      <th>shortwave_radiation_sum</th>\n",
       "      <th>et0_fao_evapotranspiration</th>\n",
       "    </tr>\n",
       "  </thead>\n",
       "  <tbody>\n",
       "    <tr>\n",
       "      <th>0</th>\n",
       "      <td>2020-01-01 04:00:00+00:00</td>\n",
       "      <td>31.669500</td>\n",
       "      <td>22.869501</td>\n",
       "      <td>26.632002</td>\n",
       "      <td>0.6</td>\n",
       "      <td>0.6</td>\n",
       "      <td>3.0</td>\n",
       "      <td>20.340000</td>\n",
       "      <td>4.346330</td>\n",
       "    </tr>\n",
       "    <tr>\n",
       "      <th>1</th>\n",
       "      <td>2020-01-02 04:00:00+00:00</td>\n",
       "      <td>30.369501</td>\n",
       "      <td>23.169500</td>\n",
       "      <td>26.698664</td>\n",
       "      <td>5.5</td>\n",
       "      <td>5.5</td>\n",
       "      <td>5.0</td>\n",
       "      <td>17.629999</td>\n",
       "      <td>3.728637</td>\n",
       "    </tr>\n",
       "    <tr>\n",
       "      <th>2</th>\n",
       "      <td>2020-01-03 04:00:00+00:00</td>\n",
       "      <td>32.719501</td>\n",
       "      <td>24.019501</td>\n",
       "      <td>28.157000</td>\n",
       "      <td>0.5</td>\n",
       "      <td>0.5</td>\n",
       "      <td>3.0</td>\n",
       "      <td>25.639999</td>\n",
       "      <td>5.601533</td>\n",
       "    </tr>\n",
       "    <tr>\n",
       "      <th>3</th>\n",
       "      <td>2020-01-04 04:00:00+00:00</td>\n",
       "      <td>33.269501</td>\n",
       "      <td>24.019501</td>\n",
       "      <td>28.646584</td>\n",
       "      <td>0.0</td>\n",
       "      <td>0.0</td>\n",
       "      <td>0.0</td>\n",
       "      <td>27.549999</td>\n",
       "      <td>6.145042</td>\n",
       "    </tr>\n",
       "    <tr>\n",
       "      <th>4</th>\n",
       "      <td>2020-01-05 04:00:00+00:00</td>\n",
       "      <td>32.919502</td>\n",
       "      <td>24.369501</td>\n",
       "      <td>28.444504</td>\n",
       "      <td>0.3</td>\n",
       "      <td>0.3</td>\n",
       "      <td>1.0</td>\n",
       "      <td>25.309999</td>\n",
       "      <td>6.205818</td>\n",
       "    </tr>\n",
       "    <tr>\n",
       "      <th>...</th>\n",
       "      <td>...</td>\n",
       "      <td>...</td>\n",
       "      <td>...</td>\n",
       "      <td>...</td>\n",
       "      <td>...</td>\n",
       "      <td>...</td>\n",
       "      <td>...</td>\n",
       "      <td>...</td>\n",
       "      <td>...</td>\n",
       "    </tr>\n",
       "    <tr>\n",
       "      <th>1735</th>\n",
       "      <td>2024-10-01 04:00:00+00:00</td>\n",
       "      <td>38.019501</td>\n",
       "      <td>27.769501</td>\n",
       "      <td>32.519505</td>\n",
       "      <td>0.0</td>\n",
       "      <td>0.0</td>\n",
       "      <td>0.0</td>\n",
       "      <td>21.629999</td>\n",
       "      <td>9.192921</td>\n",
       "    </tr>\n",
       "    <tr>\n",
       "      <th>1736</th>\n",
       "      <td>2024-10-02 04:00:00+00:00</td>\n",
       "      <td>36.869499</td>\n",
       "      <td>27.469501</td>\n",
       "      <td>31.996588</td>\n",
       "      <td>0.0</td>\n",
       "      <td>0.0</td>\n",
       "      <td>0.0</td>\n",
       "      <td>19.799999</td>\n",
       "      <td>7.415186</td>\n",
       "    </tr>\n",
       "    <tr>\n",
       "      <th>1737</th>\n",
       "      <td>2024-10-03 04:00:00+00:00</td>\n",
       "      <td>33.719501</td>\n",
       "      <td>24.219501</td>\n",
       "      <td>28.369499</td>\n",
       "      <td>0.0</td>\n",
       "      <td>0.0</td>\n",
       "      <td>0.0</td>\n",
       "      <td>21.969999</td>\n",
       "      <td>7.930784</td>\n",
       "    </tr>\n",
       "    <tr>\n",
       "      <th>1738</th>\n",
       "      <td>2024-10-04 04:00:00+00:00</td>\n",
       "      <td>36.119499</td>\n",
       "      <td>22.519501</td>\n",
       "      <td>NaN</td>\n",
       "      <td>NaN</td>\n",
       "      <td>NaN</td>\n",
       "      <td>0.0</td>\n",
       "      <td>NaN</td>\n",
       "      <td>NaN</td>\n",
       "    </tr>\n",
       "    <tr>\n",
       "      <th>1739</th>\n",
       "      <td>2024-10-05 04:00:00+00:00</td>\n",
       "      <td>NaN</td>\n",
       "      <td>NaN</td>\n",
       "      <td>NaN</td>\n",
       "      <td>NaN</td>\n",
       "      <td>NaN</td>\n",
       "      <td>0.0</td>\n",
       "      <td>NaN</td>\n",
       "      <td>NaN</td>\n",
       "    </tr>\n",
       "  </tbody>\n",
       "</table>\n",
       "<p>1740 rows × 9 columns</p>\n",
       "</div>"
      ],
      "text/plain": [
       "                          date  temperature_2m_max  temperature_2m_min  \\\n",
       "0    2020-01-01 04:00:00+00:00           31.669500           22.869501   \n",
       "1    2020-01-02 04:00:00+00:00           30.369501           23.169500   \n",
       "2    2020-01-03 04:00:00+00:00           32.719501           24.019501   \n",
       "3    2020-01-04 04:00:00+00:00           33.269501           24.019501   \n",
       "4    2020-01-05 04:00:00+00:00           32.919502           24.369501   \n",
       "...                        ...                 ...                 ...   \n",
       "1735 2024-10-01 04:00:00+00:00           38.019501           27.769501   \n",
       "1736 2024-10-02 04:00:00+00:00           36.869499           27.469501   \n",
       "1737 2024-10-03 04:00:00+00:00           33.719501           24.219501   \n",
       "1738 2024-10-04 04:00:00+00:00           36.119499           22.519501   \n",
       "1739 2024-10-05 04:00:00+00:00                 NaN                 NaN   \n",
       "\n",
       "      temperature_2m_mean  precipitation_sum  rain_sum  precipitation_hours  \\\n",
       "0               26.632002                0.6       0.6                  3.0   \n",
       "1               26.698664                5.5       5.5                  5.0   \n",
       "2               28.157000                0.5       0.5                  3.0   \n",
       "3               28.646584                0.0       0.0                  0.0   \n",
       "4               28.444504                0.3       0.3                  1.0   \n",
       "...                   ...                ...       ...                  ...   \n",
       "1735            32.519505                0.0       0.0                  0.0   \n",
       "1736            31.996588                0.0       0.0                  0.0   \n",
       "1737            28.369499                0.0       0.0                  0.0   \n",
       "1738                  NaN                NaN       NaN                  0.0   \n",
       "1739                  NaN                NaN       NaN                  0.0   \n",
       "\n",
       "      shortwave_radiation_sum  et0_fao_evapotranspiration  \n",
       "0                   20.340000                    4.346330  \n",
       "1                   17.629999                    3.728637  \n",
       "2                   25.639999                    5.601533  \n",
       "3                   27.549999                    6.145042  \n",
       "4                   25.309999                    6.205818  \n",
       "...                       ...                         ...  \n",
       "1735                21.629999                    9.192921  \n",
       "1736                19.799999                    7.415186  \n",
       "1737                21.969999                    7.930784  \n",
       "1738                      NaN                         NaN  \n",
       "1739                      NaN                         NaN  \n",
       "\n",
       "[1740 rows x 9 columns]"
      ]
     },
     "execution_count": 4,
     "metadata": {},
     "output_type": "execute_result"
    }
   ],
   "source": [
    "# Setup the Open-Meteo API client with cache and retry on error\n",
    "cache_session = requests_cache.CachedSession('.cache', expire_after = -1)\n",
    "retry_session = retry(cache_session, retries = 5, backoff_factor = 0.2)\n",
    "openmeteo = openmeteo_requests.Client(session = retry_session)\n",
    "# Make sure all required weather variables are listed here\n",
    "# The order of variables in hourly or daily is important to assign them correctly below\n",
    "url = \"https://archive-api.open-meteo.com/v1/archive\"\n",
    " \n",
    "params = {\n",
    "\t\"latitude\": -17.638442,\n",
    "\t\"longitude\": -62.260282,\n",
    "\t\"start_date\": \"2020-01-01\",\n",
    "\t\"end_date\": \"2024-10-05\",\n",
    "\t\"daily\": [\"temperature_2m_max\", \"temperature_2m_min\", \"temperature_2m_mean\", \"precipitation_sum\", \"rain_sum\", \"precipitation_hours\", \"shortwave_radiation_sum\", \"et0_fao_evapotranspiration\"],\n",
    "\t\"timezone\": \"America/New_York\"\n",
    "}\n",
    "responses = openmeteo.weather_api(url, params=params)\n",
    "# Process first location. Add a for-loop for multiple locations or weather models\n",
    "response = responses[0]\n",
    "print(f\"Coordinates {response.Latitude()}°N {response.Longitude()}°E\")\n",
    "print(f\"Elevation {response.Elevation()} m asl\")\n",
    "print(f\"Timezone {response.Timezone()} {response.TimezoneAbbreviation()}\")\n",
    "print(f\"Timezone difference to GMT+0 {response.UtcOffsetSeconds()} s\")\n",
    "# Process daily data. The order of variables needs to be the same as requested.\n",
    "daily = response.Daily()\n",
    "daily_temperature_2m_max = daily.Variables(0).ValuesAsNumpy()\n",
    "daily_temperature_2m_min = daily.Variables(1).ValuesAsNumpy()\n",
    "daily_temperature_2m_mean = daily.Variables(2).ValuesAsNumpy()\n",
    "daily_precipitation_sum = daily.Variables(3).ValuesAsNumpy()\n",
    "daily_rain_sum = daily.Variables(4).ValuesAsNumpy()\n",
    "daily_precipitation_hours = daily.Variables(5).ValuesAsNumpy()\n",
    "daily_shortwave_radiation_sum = daily.Variables(6).ValuesAsNumpy()\n",
    "daily_et0_fao_evapotranspiration = daily.Variables(7).ValuesAsNumpy()\n",
    "\n",
    "daily_data = {\"date\": pd.date_range(\n",
    "\tstart = pd.to_datetime(daily.Time(), unit = \"s\", utc = True),\n",
    "\tend = pd.to_datetime(daily.TimeEnd(), unit = \"s\", utc = True),\n",
    "\tfreq = pd.Timedelta(seconds = daily.Interval()),\n",
    "\tinclusive = \"left\"\n",
    ")}\n",
    "daily_data[\"temperature_2m_max\"] = daily_temperature_2m_max\n",
    "daily_data[\"temperature_2m_min\"] = daily_temperature_2m_min\n",
    "daily_data[\"temperature_2m_mean\"] = daily_temperature_2m_mean\n",
    "daily_data[\"precipitation_sum\"] = daily_precipitation_sum\n",
    "daily_data[\"rain_sum\"] = daily_rain_sum\n",
    "daily_data[\"precipitation_hours\"] = daily_precipitation_hours\n",
    "daily_data[\"shortwave_radiation_sum\"] = daily_shortwave_radiation_sum\n",
    "daily_data[\"et0_fao_evapotranspiration\"] = daily_et0_fao_evapotranspiration\n",
    "\n",
    "daily_dataframe = pd.DataFrame(data = daily_data)\n",
    "# print(daily_dataframe)\n",
    "daily_dataframe"
   ]
  },
  {
   "cell_type": "markdown",
   "id": "ac30b03c-48f6-459c-a8b1-9510e03ccc2f",
   "metadata": {},
   "source": [
    "After retrieving data from the Open Meteo API, the target variable has been labeled with the following labels:\n",
    "1 for optimal weather conditions\n",
    "0 for non optimal weather conditions\n",
    "The labeling is based in past local news articles, agriculture expertise (as a multidisciplinary team we count on an industry practitioner), and articles on weather conditions for Soybean.\n",
    "Sources: \n",
    "- https://eos.com/blog/how-to-grow-soybeans/\n",
    "- https://eju.tv/2023/12/campana-de-verano-2023-supeditada-a-las-lluvias-y-al-diesel/\n",
    "- https://www.academia.edu/71188672/The_multi_year_soybean_grain_yield_depending_on_weather_conditions"
   ]
  },
  {
   "cell_type": "markdown",
   "id": "3705b5c4-070f-49e8-90d5-676c8339c683",
   "metadata": {},
   "source": [
    "## Reading labeled data"
   ]
  },
  {
   "cell_type": "code",
   "execution_count": 5,
   "id": "7539b1ad-984f-4707-bf2d-c6f352c6f3fe",
   "metadata": {},
   "outputs": [],
   "source": [
    "# San Juan\n",
    "df_1 = pd.read_excel('DATOSHISTORICOSsanJuan.xlsx')\n",
    "# Pozo Tigre\n",
    "df_2 = pd.read_excel('DATOSHISTORICOSpozoTigre.xlsx')\n",
    "# Tres Cruces\n",
    "df_3 = pd.read_excel('DATOSHISTORICOStresCruces.xlsx')"
   ]
  },
  {
   "cell_type": "markdown",
   "id": "a18b7b40-9aa8-4a74-9e1a-838bc9b8c10c",
   "metadata": {},
   "source": [
    "## Location 1: San Juan"
   ]
  },
  {
   "cell_type": "code",
   "execution_count": 6,
   "id": "8a6e4a08-928a-4013-ab0b-d9c580487fb1",
   "metadata": {},
   "outputs": [],
   "source": [
    "import requests"
   ]
  },
  {
   "cell_type": "markdown",
   "id": "b9ef68eb-55fa-4c6f-a432-69de254e34b0",
   "metadata": {},
   "source": [
    "san juan\n",
    "\"latitude\": -17.507429,\n",
    "\"longitude\": -62.843276,"
   ]
  },
  {
   "cell_type": "code",
   "execution_count": 7,
   "id": "eb1a386e-0177-4978-9538-b7bd409255e6",
   "metadata": {},
   "outputs": [],
   "source": [
    "df_1_nasa = power_nasa(-17.507429,-62.843276)"
   ]
  },
  {
   "cell_type": "code",
   "execution_count": 8,
   "id": "4700a0be-2c2c-48b0-94bd-25656d85822f",
   "metadata": {},
   "outputs": [],
   "source": [
    "df_1['date'] = df_1['date'].dt.strftime('%Y%m%d')"
   ]
  },
  {
   "cell_type": "markdown",
   "id": "7a54a32c-1dfb-4842-95c9-fb596b543005",
   "metadata": {},
   "source": [
    "In this line, data from Meteo and Nasa is being merged into a single dataframe"
   ]
  },
  {
   "cell_type": "code",
   "execution_count": 9,
   "id": "6fb8376c-3c29-405d-9c54-8e01f9a553e7",
   "metadata": {},
   "outputs": [],
   "source": [
    "df_1 = pd.merge(df_1, df_1_nasa, on='date', how='left')"
   ]
  },
  {
   "cell_type": "code",
   "execution_count": 10,
   "id": "bdee4a6c-4b7d-45b0-9dfe-4308ccab7cd0",
   "metadata": {},
   "outputs": [],
   "source": [
    "df_1['rain_sum_now_7days'] = df_1['precipitation_sum'].rolling(window=8).sum()\n",
    "df_1['rain_sum_7to14days'] = df_1['precipitation_sum'].shift(7).rolling(window=7).sum()\n",
    "df_1['temp_sum_now_7days'] = df_1['temperature_2m_mean'].rolling(window=8).sum()\n",
    "df_1['temp_avg_now_7days'] = df_1['temperature_2m_mean'].rolling(window=8).mean()"
   ]
  },
  {
   "cell_type": "markdown",
   "id": "7698f376-b4c9-445e-9cfb-161bc0cab7e5",
   "metadata": {},
   "source": [
    "## Location 2: Tres Tigres"
   ]
  },
  {
   "cell_type": "markdown",
   "id": "d2535fdd-0010-4352-8ad8-383dac01307d",
   "metadata": {},
   "source": [
    "pozo tigre\n",
    "-17.627575, -61.979184\n"
   ]
  },
  {
   "cell_type": "code",
   "execution_count": 11,
   "id": "cf81ea9a-689c-437e-b9f1-1a68b432df4d",
   "metadata": {},
   "outputs": [],
   "source": [
    "df_2_nasa = power_nasa(-17.627575, -61.979184)"
   ]
  },
  {
   "cell_type": "code",
   "execution_count": 12,
   "id": "39772b50-3cf2-4ae7-bc23-9f0e40aaf3f6",
   "metadata": {},
   "outputs": [],
   "source": [
    "df_2['date'] = df_2['date'].dt.strftime('%Y%m%d')"
   ]
  },
  {
   "cell_type": "markdown",
   "id": "20183f76-22c8-4574-9206-31a80074f2c7",
   "metadata": {},
   "source": [
    "In this line, data from Meteo and Nasa is being merged into a single dataframe:"
   ]
  },
  {
   "cell_type": "code",
   "execution_count": 13,
   "id": "851644da-3dad-478a-921d-e16efcba5dc4",
   "metadata": {},
   "outputs": [],
   "source": [
    "df_2 = pd.merge(df_2, df_2_nasa, on='date', how='left')"
   ]
  },
  {
   "cell_type": "code",
   "execution_count": 14,
   "id": "33400121-eb8a-42db-8f3c-a872b252691a",
   "metadata": {},
   "outputs": [],
   "source": [
    "df_2['rain_sum_now_7days'] = df_2['precipitation_sum'].rolling(window=8).sum()\n",
    "df_2['rain_sum_7to14days'] = df_2['precipitation_sum'].shift(7).rolling(window=7).sum()\n",
    "df_2['temp_sum_now_7days'] = df_2['temperature_2m_mean'].rolling(window=8).sum()\n",
    "df_2['temp_avg_now_7days'] = df_2['temperature_2m_mean'].rolling(window=8).mean()"
   ]
  },
  {
   "cell_type": "markdown",
   "id": "bc697f20-dd81-4c21-bc23-9b6ed248d832",
   "metadata": {},
   "source": [
    "## Location 3: Tres Cruces"
   ]
  },
  {
   "cell_type": "markdown",
   "id": "b94b05f4-6dd4-43d4-896e-a82862034707",
   "metadata": {},
   "source": [
    "\n",
    "Tres cruces\n",
    "-17.638442, -62.260282\n"
   ]
  },
  {
   "cell_type": "code",
   "execution_count": 15,
   "id": "8b6192b5-2ef4-4547-8bb6-13c3f5d9eb9e",
   "metadata": {},
   "outputs": [],
   "source": [
    "df_3_nasa = power_nasa(-17.638442, -62.260282)"
   ]
  },
  {
   "cell_type": "code",
   "execution_count": 16,
   "id": "3fd62fcf-3758-4f2f-96dd-eecb9731d0ea",
   "metadata": {},
   "outputs": [],
   "source": [
    "df_3['date'] = df_3['date'].dt.strftime('%Y%m%d')"
   ]
  },
  {
   "cell_type": "markdown",
   "id": "7d08f792-8264-4ea1-b339-84fcd67729a5",
   "metadata": {},
   "source": [
    "In this line, data from Meteo and Nasa is being merged into a single dataframe"
   ]
  },
  {
   "cell_type": "code",
   "execution_count": 17,
   "id": "e75c6a32-6c21-4a95-8ca4-b4ed74e82a3c",
   "metadata": {},
   "outputs": [],
   "source": [
    "df_3 = pd.merge(df_3, df_3_nasa, on='date', how='left')"
   ]
  },
  {
   "cell_type": "code",
   "execution_count": 18,
   "id": "b5d815bb-e21d-4928-8fb8-0acffc5ef64e",
   "metadata": {},
   "outputs": [],
   "source": [
    "df_3['rain_sum_now_7days'] = df_3['precipitation_sum'].rolling(window=8).sum()\n",
    "df_3['rain_sum_7to14days'] = df_3['precipitation_sum'].shift(7).rolling(window=7).sum()\n",
    "df_3['temp_sum_now_7days'] = df_3['temperature_2m_mean'].rolling(window=8).sum()\n",
    "df_3['temp_avg_now_7days'] = df_3['temperature_2m_mean'].rolling(window=8).mean()"
   ]
  },
  {
   "cell_type": "markdown",
   "id": "6f662982-8d1a-411a-a4a7-c39c5294ef84",
   "metadata": {},
   "source": [
    "# Data Processing"
   ]
  },
  {
   "cell_type": "code",
   "execution_count": 19,
   "id": "117d9ade-e8a2-427e-8523-88f9d38891ed",
   "metadata": {},
   "outputs": [],
   "source": [
    "df_total = pd.concat([df_1, df_2, df_3], ignore_index=True)"
   ]
  },
  {
   "cell_type": "code",
   "execution_count": 20,
   "id": "6c1fdec8-7243-4975-9a97-abdb0b61391c",
   "metadata": {},
   "outputs": [],
   "source": [
    "df_total.fillna(0, inplace=True)"
   ]
  },
  {
   "cell_type": "code",
   "execution_count": 21,
   "id": "ffc14420-bf07-4577-abc6-7a16005f8da0",
   "metadata": {},
   "outputs": [
    {
     "data": {
      "text/html": [
       "<div>\n",
       "<style scoped>\n",
       "    .dataframe tbody tr th:only-of-type {\n",
       "        vertical-align: middle;\n",
       "    }\n",
       "\n",
       "    .dataframe tbody tr th {\n",
       "        vertical-align: top;\n",
       "    }\n",
       "\n",
       "    .dataframe thead th {\n",
       "        text-align: right;\n",
       "    }\n",
       "</style>\n",
       "<table border=\"1\" class=\"dataframe\">\n",
       "  <thead>\n",
       "    <tr style=\"text-align: right;\">\n",
       "      <th></th>\n",
       "      <th>date</th>\n",
       "      <th>y</th>\n",
       "      <th>temperature_2m_max</th>\n",
       "      <th>temperature_2m_min</th>\n",
       "      <th>temperature_2m_mean</th>\n",
       "      <th>precipitation_sum</th>\n",
       "      <th>rain_sum</th>\n",
       "      <th>precipitation_hours</th>\n",
       "      <th>shortwave_radiation_sum</th>\n",
       "      <th>et0_fao_evapotranspiration</th>\n",
       "      <th>...</th>\n",
       "      <th>WD2M</th>\n",
       "      <th>PS</th>\n",
       "      <th>CLRSKY_SFC_SW_DWN</th>\n",
       "      <th>WS2M</th>\n",
       "      <th>WS50M</th>\n",
       "      <th>PRECTOTCORR</th>\n",
       "      <th>rain_sum_now_7days</th>\n",
       "      <th>rain_sum_7to14days</th>\n",
       "      <th>temp_sum_now_7days</th>\n",
       "      <th>temp_avg_now_7days</th>\n",
       "    </tr>\n",
       "  </thead>\n",
       "  <tbody>\n",
       "    <tr>\n",
       "      <th>0</th>\n",
       "      <td>20200101</td>\n",
       "      <td>0.0</td>\n",
       "      <td>30.947500</td>\n",
       "      <td>22.347500</td>\n",
       "      <td>26.091248</td>\n",
       "      <td>8.0</td>\n",
       "      <td>8.0</td>\n",
       "      <td>12</td>\n",
       "      <td>21.559999</td>\n",
       "      <td>4.470323</td>\n",
       "      <td>...</td>\n",
       "      <td>152.31</td>\n",
       "      <td>96.97</td>\n",
       "      <td>29.39</td>\n",
       "      <td>1.20</td>\n",
       "      <td>2.84</td>\n",
       "      <td>3.05</td>\n",
       "      <td>0.0</td>\n",
       "      <td>0.0</td>\n",
       "      <td>0.0</td>\n",
       "      <td>0.0</td>\n",
       "    </tr>\n",
       "    <tr>\n",
       "      <th>1</th>\n",
       "      <td>20200102</td>\n",
       "      <td>0.0</td>\n",
       "      <td>30.497499</td>\n",
       "      <td>23.147499</td>\n",
       "      <td>26.526663</td>\n",
       "      <td>2.7</td>\n",
       "      <td>2.7</td>\n",
       "      <td>4</td>\n",
       "      <td>19.790001</td>\n",
       "      <td>4.079800</td>\n",
       "      <td>...</td>\n",
       "      <td>183.88</td>\n",
       "      <td>97.02</td>\n",
       "      <td>29.47</td>\n",
       "      <td>1.42</td>\n",
       "      <td>3.38</td>\n",
       "      <td>1.67</td>\n",
       "      <td>0.0</td>\n",
       "      <td>0.0</td>\n",
       "      <td>0.0</td>\n",
       "      <td>0.0</td>\n",
       "    </tr>\n",
       "    <tr>\n",
       "      <th>2</th>\n",
       "      <td>20200103</td>\n",
       "      <td>0.0</td>\n",
       "      <td>32.497501</td>\n",
       "      <td>23.847500</td>\n",
       "      <td>27.759996</td>\n",
       "      <td>0.2</td>\n",
       "      <td>0.2</td>\n",
       "      <td>1</td>\n",
       "      <td>26.520000</td>\n",
       "      <td>5.694897</td>\n",
       "      <td>...</td>\n",
       "      <td>171.88</td>\n",
       "      <td>97.11</td>\n",
       "      <td>30.01</td>\n",
       "      <td>1.90</td>\n",
       "      <td>4.22</td>\n",
       "      <td>0.08</td>\n",
       "      <td>0.0</td>\n",
       "      <td>0.0</td>\n",
       "      <td>0.0</td>\n",
       "      <td>0.0</td>\n",
       "    </tr>\n",
       "    <tr>\n",
       "      <th>3</th>\n",
       "      <td>20200104</td>\n",
       "      <td>0.0</td>\n",
       "      <td>33.047501</td>\n",
       "      <td>24.247499</td>\n",
       "      <td>28.395416</td>\n",
       "      <td>0.1</td>\n",
       "      <td>0.1</td>\n",
       "      <td>1</td>\n",
       "      <td>26.910000</td>\n",
       "      <td>5.986668</td>\n",
       "      <td>...</td>\n",
       "      <td>140.88</td>\n",
       "      <td>96.97</td>\n",
       "      <td>29.87</td>\n",
       "      <td>1.42</td>\n",
       "      <td>3.35</td>\n",
       "      <td>0.01</td>\n",
       "      <td>0.0</td>\n",
       "      <td>0.0</td>\n",
       "      <td>0.0</td>\n",
       "      <td>0.0</td>\n",
       "    </tr>\n",
       "    <tr>\n",
       "      <th>4</th>\n",
       "      <td>20200105</td>\n",
       "      <td>0.0</td>\n",
       "      <td>31.047501</td>\n",
       "      <td>24.447500</td>\n",
       "      <td>27.295416</td>\n",
       "      <td>1.0</td>\n",
       "      <td>1.0</td>\n",
       "      <td>6</td>\n",
       "      <td>23.010000</td>\n",
       "      <td>5.050601</td>\n",
       "      <td>...</td>\n",
       "      <td>316.06</td>\n",
       "      <td>96.67</td>\n",
       "      <td>29.00</td>\n",
       "      <td>2.74</td>\n",
       "      <td>6.32</td>\n",
       "      <td>1.60</td>\n",
       "      <td>0.0</td>\n",
       "      <td>0.0</td>\n",
       "      <td>0.0</td>\n",
       "      <td>0.0</td>\n",
       "    </tr>\n",
       "  </tbody>\n",
       "</table>\n",
       "<p>5 rows × 23 columns</p>\n",
       "</div>"
      ],
      "text/plain": [
       "       date    y  temperature_2m_max  temperature_2m_min  temperature_2m_mean  \\\n",
       "0  20200101  0.0           30.947500           22.347500            26.091248   \n",
       "1  20200102  0.0           30.497499           23.147499            26.526663   \n",
       "2  20200103  0.0           32.497501           23.847500            27.759996   \n",
       "3  20200104  0.0           33.047501           24.247499            28.395416   \n",
       "4  20200105  0.0           31.047501           24.447500            27.295416   \n",
       "\n",
       "   precipitation_sum  rain_sum  precipitation_hours  shortwave_radiation_sum  \\\n",
       "0                8.0       8.0                   12                21.559999   \n",
       "1                2.7       2.7                    4                19.790001   \n",
       "2                0.2       0.2                    1                26.520000   \n",
       "3                0.1       0.1                    1                26.910000   \n",
       "4                1.0       1.0                    6                23.010000   \n",
       "\n",
       "   et0_fao_evapotranspiration  ...    WD2M     PS  CLRSKY_SFC_SW_DWN  WS2M  \\\n",
       "0                    4.470323  ...  152.31  96.97              29.39  1.20   \n",
       "1                    4.079800  ...  183.88  97.02              29.47  1.42   \n",
       "2                    5.694897  ...  171.88  97.11              30.01  1.90   \n",
       "3                    5.986668  ...  140.88  96.97              29.87  1.42   \n",
       "4                    5.050601  ...  316.06  96.67              29.00  2.74   \n",
       "\n",
       "   WS50M  PRECTOTCORR  rain_sum_now_7days  rain_sum_7to14days  \\\n",
       "0   2.84         3.05                 0.0                 0.0   \n",
       "1   3.38         1.67                 0.0                 0.0   \n",
       "2   4.22         0.08                 0.0                 0.0   \n",
       "3   3.35         0.01                 0.0                 0.0   \n",
       "4   6.32         1.60                 0.0                 0.0   \n",
       "\n",
       "   temp_sum_now_7days  temp_avg_now_7days  \n",
       "0                 0.0                 0.0  \n",
       "1                 0.0                 0.0  \n",
       "2                 0.0                 0.0  \n",
       "3                 0.0                 0.0  \n",
       "4                 0.0                 0.0  \n",
       "\n",
       "[5 rows x 23 columns]"
      ]
     },
     "execution_count": 21,
     "metadata": {},
     "output_type": "execute_result"
    }
   ],
   "source": [
    "df_total.head()"
   ]
  },
  {
   "cell_type": "markdown",
   "id": "23bd5931-772b-4ca9-b0ba-bc7f0787d616",
   "metadata": {},
   "source": [
    "# Classification Model: Gradient Boosting Ensemble of Decision Trees"
   ]
  },
  {
   "cell_type": "markdown",
   "id": "ca584e69-36fc-4a08-b4d4-66b06ff47308",
   "metadata": {},
   "source": [
    "### In this implementation, the XGBoost python library was used to train the classification model.\n",
    "Documentation: https://xgboost.readthedocs.io/en/stable/"
   ]
  },
  {
   "cell_type": "code",
   "execution_count": 22,
   "id": "44e1cdb3-99c0-4cc0-9c97-2ccadde9bbf5",
   "metadata": {},
   "outputs": [
    {
     "name": "stdout",
     "output_type": "stream",
     "text": [
      "Requirement already satisfied: xgboost in /Users/maxbaldiviezo/opt/anaconda3/lib/python3.9/site-packages (2.1.1)\n",
      "Requirement already satisfied: scipy in /Users/maxbaldiviezo/opt/anaconda3/lib/python3.9/site-packages (from xgboost) (1.7.3)\n",
      "Requirement already satisfied: numpy in /Users/maxbaldiviezo/opt/anaconda3/lib/python3.9/site-packages (from xgboost) (1.21.5)\n",
      "\n",
      "\u001b[1m[\u001b[0m\u001b[34;49mnotice\u001b[0m\u001b[1;39;49m]\u001b[0m\u001b[39;49m A new release of pip available: \u001b[0m\u001b[31;49m22.3.1\u001b[0m\u001b[39;49m -> \u001b[0m\u001b[32;49m24.2\u001b[0m\n",
      "\u001b[1m[\u001b[0m\u001b[34;49mnotice\u001b[0m\u001b[1;39;49m]\u001b[0m\u001b[39;49m To update, run: \u001b[0m\u001b[32;49mpip install --upgrade pip\u001b[0m\n"
     ]
    }
   ],
   "source": [
    "! pip install xgboost"
   ]
  },
  {
   "cell_type": "code",
   "execution_count": 23,
   "id": "f1c7337e-c552-4844-91cd-cc38cb278154",
   "metadata": {},
   "outputs": [
    {
     "data": {
      "text/plain": [
       "Index(['date', 'y', 'temperature_2m_max', 'temperature_2m_min',\n",
       "       'temperature_2m_mean', 'precipitation_sum', 'rain_sum',\n",
       "       'precipitation_hours', 'shortwave_radiation_sum',\n",
       "       'et0_fao_evapotranspiration', 'ALLSKY_SFC_SW_DWN', 'QV2M', 'RH2M',\n",
       "       'WD2M', 'PS', 'CLRSKY_SFC_SW_DWN', 'WS2M', 'WS50M', 'PRECTOTCORR',\n",
       "       'rain_sum_now_7days', 'rain_sum_7to14days', 'temp_sum_now_7days',\n",
       "       'temp_avg_now_7days'],\n",
       "      dtype='object')"
      ]
     },
     "execution_count": 23,
     "metadata": {},
     "output_type": "execute_result"
    }
   ],
   "source": [
    "df_total.columns"
   ]
  },
  {
   "cell_type": "code",
   "execution_count": 24,
   "id": "3cf86fc2-c27a-4286-83b0-3b0d77e6be38",
   "metadata": {},
   "outputs": [
    {
     "data": {
      "text/html": [
       "<div>\n",
       "<style scoped>\n",
       "    .dataframe tbody tr th:only-of-type {\n",
       "        vertical-align: middle;\n",
       "    }\n",
       "\n",
       "    .dataframe tbody tr th {\n",
       "        vertical-align: top;\n",
       "    }\n",
       "\n",
       "    .dataframe thead th {\n",
       "        text-align: right;\n",
       "    }\n",
       "</style>\n",
       "<table border=\"1\" class=\"dataframe\">\n",
       "  <thead>\n",
       "    <tr style=\"text-align: right;\">\n",
       "      <th></th>\n",
       "      <th>date</th>\n",
       "      <th>y</th>\n",
       "      <th>temperature_2m_max</th>\n",
       "      <th>temperature_2m_min</th>\n",
       "      <th>temperature_2m_mean</th>\n",
       "      <th>precipitation_sum</th>\n",
       "      <th>rain_sum</th>\n",
       "      <th>precipitation_hours</th>\n",
       "      <th>shortwave_radiation_sum</th>\n",
       "      <th>et0_fao_evapotranspiration</th>\n",
       "      <th>...</th>\n",
       "      <th>WD2M</th>\n",
       "      <th>PS</th>\n",
       "      <th>CLRSKY_SFC_SW_DWN</th>\n",
       "      <th>WS2M</th>\n",
       "      <th>WS50M</th>\n",
       "      <th>PRECTOTCORR</th>\n",
       "      <th>rain_sum_now_7days</th>\n",
       "      <th>rain_sum_7to14days</th>\n",
       "      <th>temp_sum_now_7days</th>\n",
       "      <th>temp_avg_now_7days</th>\n",
       "    </tr>\n",
       "  </thead>\n",
       "  <tbody>\n",
       "    <tr>\n",
       "      <th>0</th>\n",
       "      <td>20200101</td>\n",
       "      <td>0.0</td>\n",
       "      <td>30.947500</td>\n",
       "      <td>22.347500</td>\n",
       "      <td>26.091248</td>\n",
       "      <td>8.0</td>\n",
       "      <td>8.0</td>\n",
       "      <td>12</td>\n",
       "      <td>21.559999</td>\n",
       "      <td>4.470323</td>\n",
       "      <td>...</td>\n",
       "      <td>152.31</td>\n",
       "      <td>96.97</td>\n",
       "      <td>29.39</td>\n",
       "      <td>1.20</td>\n",
       "      <td>2.84</td>\n",
       "      <td>3.05</td>\n",
       "      <td>0.0</td>\n",
       "      <td>0.0</td>\n",
       "      <td>0.000000</td>\n",
       "      <td>0.000000</td>\n",
       "    </tr>\n",
       "    <tr>\n",
       "      <th>1</th>\n",
       "      <td>20200102</td>\n",
       "      <td>0.0</td>\n",
       "      <td>30.497499</td>\n",
       "      <td>23.147499</td>\n",
       "      <td>26.526663</td>\n",
       "      <td>2.7</td>\n",
       "      <td>2.7</td>\n",
       "      <td>4</td>\n",
       "      <td>19.790001</td>\n",
       "      <td>4.079800</td>\n",
       "      <td>...</td>\n",
       "      <td>183.88</td>\n",
       "      <td>97.02</td>\n",
       "      <td>29.47</td>\n",
       "      <td>1.42</td>\n",
       "      <td>3.38</td>\n",
       "      <td>1.67</td>\n",
       "      <td>0.0</td>\n",
       "      <td>0.0</td>\n",
       "      <td>0.000000</td>\n",
       "      <td>0.000000</td>\n",
       "    </tr>\n",
       "    <tr>\n",
       "      <th>2</th>\n",
       "      <td>20200103</td>\n",
       "      <td>0.0</td>\n",
       "      <td>32.497501</td>\n",
       "      <td>23.847500</td>\n",
       "      <td>27.759996</td>\n",
       "      <td>0.2</td>\n",
       "      <td>0.2</td>\n",
       "      <td>1</td>\n",
       "      <td>26.520000</td>\n",
       "      <td>5.694897</td>\n",
       "      <td>...</td>\n",
       "      <td>171.88</td>\n",
       "      <td>97.11</td>\n",
       "      <td>30.01</td>\n",
       "      <td>1.90</td>\n",
       "      <td>4.22</td>\n",
       "      <td>0.08</td>\n",
       "      <td>0.0</td>\n",
       "      <td>0.0</td>\n",
       "      <td>0.000000</td>\n",
       "      <td>0.000000</td>\n",
       "    </tr>\n",
       "    <tr>\n",
       "      <th>3</th>\n",
       "      <td>20200104</td>\n",
       "      <td>0.0</td>\n",
       "      <td>33.047501</td>\n",
       "      <td>24.247499</td>\n",
       "      <td>28.395416</td>\n",
       "      <td>0.1</td>\n",
       "      <td>0.1</td>\n",
       "      <td>1</td>\n",
       "      <td>26.910000</td>\n",
       "      <td>5.986668</td>\n",
       "      <td>...</td>\n",
       "      <td>140.88</td>\n",
       "      <td>96.97</td>\n",
       "      <td>29.87</td>\n",
       "      <td>1.42</td>\n",
       "      <td>3.35</td>\n",
       "      <td>0.01</td>\n",
       "      <td>0.0</td>\n",
       "      <td>0.0</td>\n",
       "      <td>0.000000</td>\n",
       "      <td>0.000000</td>\n",
       "    </tr>\n",
       "    <tr>\n",
       "      <th>4</th>\n",
       "      <td>20200105</td>\n",
       "      <td>0.0</td>\n",
       "      <td>31.047501</td>\n",
       "      <td>24.447500</td>\n",
       "      <td>27.295416</td>\n",
       "      <td>1.0</td>\n",
       "      <td>1.0</td>\n",
       "      <td>6</td>\n",
       "      <td>23.010000</td>\n",
       "      <td>5.050601</td>\n",
       "      <td>...</td>\n",
       "      <td>316.06</td>\n",
       "      <td>96.67</td>\n",
       "      <td>29.00</td>\n",
       "      <td>2.74</td>\n",
       "      <td>6.32</td>\n",
       "      <td>1.60</td>\n",
       "      <td>0.0</td>\n",
       "      <td>0.0</td>\n",
       "      <td>0.000000</td>\n",
       "      <td>0.000000</td>\n",
       "    </tr>\n",
       "    <tr>\n",
       "      <th>...</th>\n",
       "      <td>...</td>\n",
       "      <td>...</td>\n",
       "      <td>...</td>\n",
       "      <td>...</td>\n",
       "      <td>...</td>\n",
       "      <td>...</td>\n",
       "      <td>...</td>\n",
       "      <td>...</td>\n",
       "      <td>...</td>\n",
       "      <td>...</td>\n",
       "      <td>...</td>\n",
       "      <td>...</td>\n",
       "      <td>...</td>\n",
       "      <td>...</td>\n",
       "      <td>...</td>\n",
       "      <td>...</td>\n",
       "      <td>...</td>\n",
       "      <td>...</td>\n",
       "      <td>...</td>\n",
       "      <td>...</td>\n",
       "      <td>...</td>\n",
       "    </tr>\n",
       "    <tr>\n",
       "      <th>5177</th>\n",
       "      <td>20240912</td>\n",
       "      <td>0.0</td>\n",
       "      <td>32.969501</td>\n",
       "      <td>23.119501</td>\n",
       "      <td>28.559084</td>\n",
       "      <td>1.9</td>\n",
       "      <td>1.9</td>\n",
       "      <td>2</td>\n",
       "      <td>16.549999</td>\n",
       "      <td>4.862735</td>\n",
       "      <td>...</td>\n",
       "      <td>250.50</td>\n",
       "      <td>97.76</td>\n",
       "      <td>-999.00</td>\n",
       "      <td>1.34</td>\n",
       "      <td>3.59</td>\n",
       "      <td>3.76</td>\n",
       "      <td>1.9</td>\n",
       "      <td>0.0</td>\n",
       "      <td>236.668507</td>\n",
       "      <td>29.583563</td>\n",
       "    </tr>\n",
       "    <tr>\n",
       "      <th>5178</th>\n",
       "      <td>20240913</td>\n",
       "      <td>0.0</td>\n",
       "      <td>35.969501</td>\n",
       "      <td>24.419500</td>\n",
       "      <td>30.138250</td>\n",
       "      <td>0.0</td>\n",
       "      <td>0.0</td>\n",
       "      <td>0</td>\n",
       "      <td>17.430000</td>\n",
       "      <td>6.056572</td>\n",
       "      <td>...</td>\n",
       "      <td>332.38</td>\n",
       "      <td>97.60</td>\n",
       "      <td>-999.00</td>\n",
       "      <td>1.42</td>\n",
       "      <td>4.68</td>\n",
       "      <td>0.01</td>\n",
       "      <td>1.9</td>\n",
       "      <td>0.0</td>\n",
       "      <td>240.551842</td>\n",
       "      <td>30.068980</td>\n",
       "    </tr>\n",
       "    <tr>\n",
       "      <th>5179</th>\n",
       "      <td>20240914</td>\n",
       "      <td>0.0</td>\n",
       "      <td>29.069500</td>\n",
       "      <td>20.569500</td>\n",
       "      <td>23.500750</td>\n",
       "      <td>20.0</td>\n",
       "      <td>20.0</td>\n",
       "      <td>10</td>\n",
       "      <td>12.010000</td>\n",
       "      <td>3.349329</td>\n",
       "      <td>...</td>\n",
       "      <td>202.06</td>\n",
       "      <td>98.16</td>\n",
       "      <td>-999.00</td>\n",
       "      <td>3.05</td>\n",
       "      <td>8.15</td>\n",
       "      <td>2.92</td>\n",
       "      <td>21.9</td>\n",
       "      <td>0.0</td>\n",
       "      <td>237.174759</td>\n",
       "      <td>29.646845</td>\n",
       "    </tr>\n",
       "    <tr>\n",
       "      <th>5180</th>\n",
       "      <td>20240915</td>\n",
       "      <td>0.0</td>\n",
       "      <td>23.719501</td>\n",
       "      <td>18.069500</td>\n",
       "      <td>20.736168</td>\n",
       "      <td>12.2</td>\n",
       "      <td>12.2</td>\n",
       "      <td>7</td>\n",
       "      <td>10.390000</td>\n",
       "      <td>2.936058</td>\n",
       "      <td>...</td>\n",
       "      <td>162.81</td>\n",
       "      <td>98.44</td>\n",
       "      <td>-999.00</td>\n",
       "      <td>2.12</td>\n",
       "      <td>5.70</td>\n",
       "      <td>3.97</td>\n",
       "      <td>34.1</td>\n",
       "      <td>0.0</td>\n",
       "      <td>228.276842</td>\n",
       "      <td>28.534605</td>\n",
       "    </tr>\n",
       "    <tr>\n",
       "      <th>5181</th>\n",
       "      <td>20240916</td>\n",
       "      <td>0.0</td>\n",
       "      <td>28.669500</td>\n",
       "      <td>20.019501</td>\n",
       "      <td>23.982002</td>\n",
       "      <td>0.0</td>\n",
       "      <td>0.0</td>\n",
       "      <td>0</td>\n",
       "      <td>18.049999</td>\n",
       "      <td>5.051559</td>\n",
       "      <td>...</td>\n",
       "      <td>172.19</td>\n",
       "      <td>98.56</td>\n",
       "      <td>-999.00</td>\n",
       "      <td>1.79</td>\n",
       "      <td>5.09</td>\n",
       "      <td>1.54</td>\n",
       "      <td>34.1</td>\n",
       "      <td>0.0</td>\n",
       "      <td>221.810177</td>\n",
       "      <td>27.726272</td>\n",
       "    </tr>\n",
       "  </tbody>\n",
       "</table>\n",
       "<p>5182 rows × 23 columns</p>\n",
       "</div>"
      ],
      "text/plain": [
       "          date    y  temperature_2m_max  temperature_2m_min  \\\n",
       "0     20200101  0.0           30.947500           22.347500   \n",
       "1     20200102  0.0           30.497499           23.147499   \n",
       "2     20200103  0.0           32.497501           23.847500   \n",
       "3     20200104  0.0           33.047501           24.247499   \n",
       "4     20200105  0.0           31.047501           24.447500   \n",
       "...        ...  ...                 ...                 ...   \n",
       "5177  20240912  0.0           32.969501           23.119501   \n",
       "5178  20240913  0.0           35.969501           24.419500   \n",
       "5179  20240914  0.0           29.069500           20.569500   \n",
       "5180  20240915  0.0           23.719501           18.069500   \n",
       "5181  20240916  0.0           28.669500           20.019501   \n",
       "\n",
       "      temperature_2m_mean  precipitation_sum  rain_sum  precipitation_hours  \\\n",
       "0               26.091248                8.0       8.0                   12   \n",
       "1               26.526663                2.7       2.7                    4   \n",
       "2               27.759996                0.2       0.2                    1   \n",
       "3               28.395416                0.1       0.1                    1   \n",
       "4               27.295416                1.0       1.0                    6   \n",
       "...                   ...                ...       ...                  ...   \n",
       "5177            28.559084                1.9       1.9                    2   \n",
       "5178            30.138250                0.0       0.0                    0   \n",
       "5179            23.500750               20.0      20.0                   10   \n",
       "5180            20.736168               12.2      12.2                    7   \n",
       "5181            23.982002                0.0       0.0                    0   \n",
       "\n",
       "      shortwave_radiation_sum  et0_fao_evapotranspiration  ...    WD2M     PS  \\\n",
       "0                   21.559999                    4.470323  ...  152.31  96.97   \n",
       "1                   19.790001                    4.079800  ...  183.88  97.02   \n",
       "2                   26.520000                    5.694897  ...  171.88  97.11   \n",
       "3                   26.910000                    5.986668  ...  140.88  96.97   \n",
       "4                   23.010000                    5.050601  ...  316.06  96.67   \n",
       "...                       ...                         ...  ...     ...    ...   \n",
       "5177                16.549999                    4.862735  ...  250.50  97.76   \n",
       "5178                17.430000                    6.056572  ...  332.38  97.60   \n",
       "5179                12.010000                    3.349329  ...  202.06  98.16   \n",
       "5180                10.390000                    2.936058  ...  162.81  98.44   \n",
       "5181                18.049999                    5.051559  ...  172.19  98.56   \n",
       "\n",
       "      CLRSKY_SFC_SW_DWN  WS2M  WS50M  PRECTOTCORR  rain_sum_now_7days  \\\n",
       "0                 29.39  1.20   2.84         3.05                 0.0   \n",
       "1                 29.47  1.42   3.38         1.67                 0.0   \n",
       "2                 30.01  1.90   4.22         0.08                 0.0   \n",
       "3                 29.87  1.42   3.35         0.01                 0.0   \n",
       "4                 29.00  2.74   6.32         1.60                 0.0   \n",
       "...                 ...   ...    ...          ...                 ...   \n",
       "5177            -999.00  1.34   3.59         3.76                 1.9   \n",
       "5178            -999.00  1.42   4.68         0.01                 1.9   \n",
       "5179            -999.00  3.05   8.15         2.92                21.9   \n",
       "5180            -999.00  2.12   5.70         3.97                34.1   \n",
       "5181            -999.00  1.79   5.09         1.54                34.1   \n",
       "\n",
       "      rain_sum_7to14days  temp_sum_now_7days  temp_avg_now_7days  \n",
       "0                    0.0            0.000000            0.000000  \n",
       "1                    0.0            0.000000            0.000000  \n",
       "2                    0.0            0.000000            0.000000  \n",
       "3                    0.0            0.000000            0.000000  \n",
       "4                    0.0            0.000000            0.000000  \n",
       "...                  ...                 ...                 ...  \n",
       "5177                 0.0          236.668507           29.583563  \n",
       "5178                 0.0          240.551842           30.068980  \n",
       "5179                 0.0          237.174759           29.646845  \n",
       "5180                 0.0          228.276842           28.534605  \n",
       "5181                 0.0          221.810177           27.726272  \n",
       "\n",
       "[5182 rows x 23 columns]"
      ]
     },
     "execution_count": 24,
     "metadata": {},
     "output_type": "execute_result"
    }
   ],
   "source": [
    "df_total"
   ]
  },
  {
   "cell_type": "code",
   "execution_count": 25,
   "id": "6eeb7812-48c0-4c48-85c5-b349b4b8dd3e",
   "metadata": {},
   "outputs": [],
   "source": [
    "# Needed libraries\n",
    "import xgboost as xgb\n",
    "from sklearn.model_selection import train_test_split\n",
    "from sklearn.metrics import accuracy_score\n"
   ]
  },
  {
   "cell_type": "markdown",
   "id": "8790006f-b20b-46d4-a622-adbbc2f5a27a",
   "metadata": {},
   "source": [
    "Splitting the target and factors:"
   ]
  },
  {
   "cell_type": "code",
   "execution_count": 26,
   "id": "8e508672-d37a-4540-b543-5f957777569d",
   "metadata": {},
   "outputs": [],
   "source": [
    "\n",
    "X = df_total[['temperature_2m_max', 'temperature_2m_min',\n",
    "       'temperature_2m_mean', 'precipitation_sum', 'rain_sum',\n",
    "       'precipitation_hours', 'shortwave_radiation_sum',\n",
    "       'et0_fao_evapotranspiration', 'RH2M', 'ALLSKY_SFC_SW_DWN', 'PS',\n",
    "       'CLRSKY_SFC_SW_DWN', 'WS2M', 'QV2M', 'WD2M', 'WS50M', 'PRECTOTCORR',\n",
    "       'rain_sum_now_7days', 'rain_sum_7to14days', 'temp_sum_now_7days',\n",
    "       'temp_avg_now_7days']]\n",
    "\n",
    "y = df_total['y']"
   ]
  },
  {
   "cell_type": "markdown",
   "id": "4e274ea3-2049-4d57-9e3c-5c4fcd5097c6",
   "metadata": {},
   "source": [
    "Splitting train (80%) and test  (20%) data:"
   ]
  },
  {
   "cell_type": "code",
   "execution_count": 27,
   "id": "ab4e8551-f3e7-4a99-b4ef-5acd9b0ff0fd",
   "metadata": {},
   "outputs": [],
   "source": [
    "X_train, X_test, y_train, y_test = train_test_split(X, y, test_size=0.2, random_state=42)"
   ]
  },
  {
   "cell_type": "code",
   "execution_count": 28,
   "id": "eae36173-03b3-4de5-8162-99bf2bcbf8e3",
   "metadata": {},
   "outputs": [
    {
     "data": {
      "text/plain": [
       "0.0    4034\n",
       "1.0     111\n",
       "Name: y, dtype: int64"
      ]
     },
     "execution_count": 28,
     "metadata": {},
     "output_type": "execute_result"
    }
   ],
   "source": [
    "y_train.value_counts()"
   ]
  },
  {
   "cell_type": "code",
   "execution_count": 29,
   "id": "2efc2e16-a182-45cd-89b7-62b9c1607375",
   "metadata": {},
   "outputs": [
    {
     "data": {
      "text/plain": [
       "0.0    1014\n",
       "1.0      23\n",
       "Name: y, dtype: int64"
      ]
     },
     "execution_count": 29,
     "metadata": {},
     "output_type": "execute_result"
    }
   ],
   "source": [
    "y_test.value_counts()"
   ]
  },
  {
   "cell_type": "markdown",
   "id": "cf2a58c6-16ae-4d44-a075-13d88f4680c0",
   "metadata": {},
   "source": [
    "## Xgboost algorithm"
   ]
  },
  {
   "cell_type": "code",
   "execution_count": 30,
   "id": "4dc2beaf-3383-4641-beaa-5f73743b5372",
   "metadata": {},
   "outputs": [],
   "source": [
    "dtrain = xgb.DMatrix(X_train, label=y_train)\n",
    "dtest = xgb.DMatrix(X_test, label=y_test)\n",
    "\n",
    "\n",
    "params = {\n",
    "    'max_depth': 11,                       \n",
    "    'eta': 0.03,                          \n",
    "    'objective': 'binary:logistic',     \n",
    "    'eval_metric': 'logloss',            \n",
    "    'scale_pos_weight': 6,               \n",
    "}\n",
    "\n",
    "num_rounds = 1000  \n",
    "bst = xgb.train(params, dtrain, num_rounds)"
   ]
  },
  {
   "cell_type": "markdown",
   "id": "c3c2d2ef-a93e-48c9-9798-97bda9174bac",
   "metadata": {},
   "source": [
    "##### Predictions with the model"
   ]
  },
  {
   "cell_type": "code",
   "execution_count": 31,
   "id": "dd18cb88-d16a-443b-ae13-2c09f45eb36f",
   "metadata": {},
   "outputs": [],
   "source": [
    "preds = bst.predict(dtest)"
   ]
  },
  {
   "cell_type": "markdown",
   "id": "7594e86f-2264-49df-8320-0bf9a96be2d3",
   "metadata": {},
   "source": [
    "##### Model with threshold of 50% for number of trees predicting a label out of total trees"
   ]
  },
  {
   "cell_type": "code",
   "execution_count": 32,
   "id": "a23eb11b-a40c-4b27-b4bb-fa1638c4dcfe",
   "metadata": {},
   "outputs": [
    {
     "name": "stdout",
     "output_type": "stream",
     "text": [
      "Accuracy: 98.07%\n"
     ]
    }
   ],
   "source": [
    "predictions = [1 if pred > 0.5 else 0 for pred in preds]\n",
    "\n",
    "accuracy = accuracy_score(y_test, predictions)\n",
    "print(f'Accuracy: {accuracy * 100:.2f}%')"
   ]
  },
  {
   "cell_type": "markdown",
   "id": "e3e2d11f-9926-430f-9ffb-c47caf83b580",
   "metadata": {},
   "source": [
    "##### Performance metrics: Confusion matrix"
   ]
  },
  {
   "cell_type": "code",
   "execution_count": 33,
   "id": "13fa9e1d-dcd6-46b7-a95d-33f295f9ac5c",
   "metadata": {},
   "outputs": [],
   "source": [
    "from sklearn.metrics import confusion_matrix\n",
    "import matplotlib.pyplot as plt\n",
    "from sklearn.metrics import precision_score"
   ]
  },
  {
   "cell_type": "code",
   "execution_count": 34,
   "id": "a63964ba-a85a-4527-aea2-ead05acdb256",
   "metadata": {},
   "outputs": [
    {
     "name": "stdout",
     "output_type": "stream",
     "text": [
      "Precision: 75.0000\n",
      "Accuracy: 98.36%\n",
      "          Predicted 0  Predicted 1\n",
      "Actual 0         1011            3\n",
      "Actual 1           14            9\n"
     ]
    },
    {
     "data": {
      "image/png": "[encoded data removed]",
      "text/plain": [
       "<Figure size 576x432 with 2 Axes>"
      ]
     },
     "metadata": {
      "needs_background": "light"
     },
     "output_type": "display_data"
    }
   ],
   "source": [
    "predictions = [1 if pred > 0.8 else 0 for pred in preds]\n",
    "\n",
    "precision = precision_score(y_test, predictions)*100\n",
    "print(f'Precision: {precision:.4f}')\n",
    "\n",
    "accuracy = accuracy_score(y_test, predictions)\n",
    "print(f'Accuracy: {accuracy * 100:.2f}%')\n",
    "\n",
    "conf_matrix = confusion_matrix(y_test, predictions)\n",
    "\n",
    "confusion_df = pd.DataFrame(conf_matrix, \n",
    "                            index=['Actual 0', 'Actual 1'], \n",
    "                            columns=['Predicted 0', 'Predicted 1'])\n",
    "\n",
    "print(confusion_df)\n",
    "\n",
    "plt.figure(figsize=(8, 6))\n",
    "sns.heatmap(confusion_df, annot=True, fmt='d', cmap='Blues')\n",
    "plt.ylabel('Actual')\n",
    "plt.xlabel('Predicted')\n",
    "plt.show()\n"
   ]
  },
  {
   "cell_type": "markdown",
   "id": "0a90d385-25b2-4ac7-b31d-0f3f3c98eb99",
   "metadata": {},
   "source": [
    "The confusion matrix let us see that the model has good outcomes, and the predictive factors are useful to make the predictions.\n",
    "With a threshold of 80%, the precision of the model is 75%, which we believe the model should prioritize since false positives are costly for farmers."
   ]
  },
  {
   "cell_type": "code",
   "execution_count": 35,
   "id": "03b7261c-476a-47d9-aa80-cf92131a536c",
   "metadata": {},
   "outputs": [],
   "source": [
    "import numpy as np\n",
    "from sklearn.metrics import precision_recall_curve, f1_score, accuracy_score"
   ]
  },
  {
   "cell_type": "code",
   "execution_count": 36,
   "id": "3852a903-0abc-4edf-8eb3-1f6df2256851",
   "metadata": {},
   "outputs": [
    {
     "data": {
      "image/png": "[encoded data removed]",
      "text/plain": [
       "<Figure size 720x432 with 1 Axes>"
      ]
     },
     "metadata": {
      "needs_background": "light"
     },
     "output_type": "display_data"
    },
    {
     "data": {
      "text/plain": [
       "(0.3095605, 0.5531914893617021)"
      ]
     },
     "execution_count": 36,
     "metadata": {},
     "output_type": "execute_result"
    }
   ],
   "source": [
    "precision, recall, thresholds = precision_recall_curve(y_test, preds)\n",
    "f1_scores = np.where((precision + recall) > 0, 2 * (precision * recall) / (precision + recall), 0.0001)\n",
    "\n",
    "best_threshold = thresholds[np.argmax(f1_scores)]\n",
    "best_f1 = np.max(f1_scores)\n",
    "\n",
    "plt.figure(figsize=(10, 6))\n",
    "plt.plot(thresholds, precision[:-1], label='Precision', color='blue')\n",
    "plt.plot(thresholds, recall[:-1], label='Recall', color='green')\n",
    "plt.plot(thresholds, f1_scores[:-1], label='F1 Score', color='red')\n",
    "plt.axvline(x=best_threshold, color='gray', linestyle='--', label=f'Best Threshold = {best_threshold:.2f}')\n",
    "plt.title('Precision-Recall-F1 Score vs Threshold')\n",
    "plt.xlabel('Threshold')\n",
    "plt.ylabel('Score')\n",
    "plt.legend(loc='best')\n",
    "plt.show()\n",
    "\n",
    "best_threshold, best_f1\n"
   ]
  },
  {
   "cell_type": "markdown",
   "id": "927df513-d826-43d7-ab52-1a94a047dfd3",
   "metadata": {},
   "source": [
    "We can see that the precision score increases with a higher threshold."
   ]
  },
  {
   "cell_type": "code",
   "execution_count": 37,
   "id": "4d9446a8-d517-47ef-8df4-4e38a9aa2ba6",
   "metadata": {},
   "outputs": [
    {
     "name": "stderr",
     "output_type": "stream",
     "text": [
      "/Users/maxbaldiviezo/opt/anaconda3/lib/python3.9/site-packages/xgboost/core.py:158: UserWarning: [16:07:35] WARNING: /Users/runner/work/xgboost/xgboost/src/c_api/c_api.cc:1374: Saving model in the UBJSON format as default.  You can use file extension: `json`, `ubj` or `deprecated` to choose between formats.\n",
      "  warnings.warn(smsg, UserWarning)\n"
     ]
    }
   ],
   "source": [
    "# model_retrieval_hpt is the xgboots instance on your RAM\n",
    "\n",
    "bst.save_model('model.xgb')\n",
    "\n",
    "# # retreival save model\n",
    "\n",
    "# model_from_file = xgb.Booster()\n",
    "# model_from_file.load_model(\"./best_model_test/model_to_aws.xgb\") # use the same file's direction"
   ]
  },
  {
   "cell_type": "markdown",
   "id": "f622bf1e-c8d1-408f-89a0-0246a871e335",
   "metadata": {},
   "source": [
    "## Feature importance: shap values"
   ]
  },
  {
   "cell_type": "code",
   "execution_count": 38,
   "id": "9b4fa99f-b426-472f-a51f-119db97e542b",
   "metadata": {},
   "outputs": [],
   "source": [
    "#!pip install shap"
   ]
  },
  {
   "cell_type": "code",
   "execution_count": 39,
   "id": "224ca08b-b171-48ec-861c-8a47d9473846",
   "metadata": {},
   "outputs": [],
   "source": [
    "import shap"
   ]
  },
  {
   "cell_type": "code",
   "execution_count": 40,
   "id": "4f7e8dc6-8537-4823-9cc4-fc2e49808d70",
   "metadata": {},
   "outputs": [
    {
     "data": {
      "image/png": "[encoded data removed]",
      "text/plain": [
       "<Figure size 576x684 with 2 Axes>"
      ]
     },
     "metadata": {
      "needs_background": "light"
     },
     "output_type": "display_data"
    }
   ],
   "source": [
    "explainer = shap.TreeExplainer(bst)\n",
    "\n",
    "shap_values = explainer(X_train)\n",
    "\n",
    "shap.plots.beeswarm(shap_values,max_display=20)"
   ]
  },
  {
   "cell_type": "markdown",
   "id": "e6d44056-3af9-4958-bf5a-f1134378aeb8",
   "metadata": {},
   "source": [
    "The most important features are: \n",
    "Atmospheric pressure, weekly past rain, radiation and temperature, decreasing in importance as the graphic shows."
   ]
  },
  {
   "cell_type": "markdown",
   "id": "07ae207b-f181-487f-8a91-cf60cc594718",
   "metadata": {},
   "source": [
    "## Conclusion"
   ]
  },
  {
   "cell_type": "markdown",
   "id": "b6345571-f97d-4f32-a1a7-fb9e6e28834a",
   "metadata": {},
   "source": [
    "We conclude that a classification model is succesful in identifying the optimal weather and environmental conditions to assess \n",
    "the end user (farmer) in the decision making process of sowing in that particular day. This model inference will be made accessible for him through a website, mobile application or radio program subscription."
   ]
  },
  {
   "cell_type": "markdown",
   "id": "d7e50f2a-8607-4069-8587-12f4e051f0db",
   "metadata": {},
   "source": [
    "The confusion matrix let us see that the model has good outcomes, and the predictive factors are useful to make the predictions.\n",
    "With a threshold of 80%, the precision of the model is 75%, which we believe the model should prioritize since false positives are costly for farmers."
   ]
  },
  {
   "cell_type": "code",
   "execution_count": null,
   "id": "add1fdf3-687c-4ab2-acb4-249ace53be49",
   "metadata": {},
   "outputs": [],
   "source": []
  }
 ],
 "metadata": {
  "kernelspec": {
   "display_name": "Python 3 (ipykernel)",
   "language": "python",
   "name": "python3"
  },
  "language_info": {
   "codemirror_mode": {
    "name": "ipython",
    "version": 3
   },
   "file_extension": ".py",
   "mimetype": "text/x-python",
   "name": "python",
   "nbconvert_exporter": "python",
   "pygments_lexer": "ipython3",
   "version": "3.9.12"
  }
 },
 "nbformat": 4,
 "nbformat_minor": 5
}
